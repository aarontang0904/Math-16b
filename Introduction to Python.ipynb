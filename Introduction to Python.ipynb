{
 "cells": [
  {
   "cell_type": "markdown",
   "metadata": {},
   "source": [
    "# Introduction to Python\n",
    "\n",
    "In this lesson, we will familiarize ourselves with the simplest elements of Python. We'll learn how to do basic arithmetic, manipulate variables, understand floating point and integer types, store text in string types, and define basic functions. It's a lot to take in, but we'll practice along the way!\n",
    "\n",
    "First, some general tips for navigating this notebook.\n",
    "- This notebook contains both formatted text cells (like this cell; more precisely, they are \"Markdown\" cells) and code cells. The code cells are preceded by the blue text `In [ ]:`\n",
    "- To select a cell, click on it once. A green rectangle will appear around it.\n",
    "- To execute the code in a code cell, select it (by clicking on it once) and then press Shift+Enter on your keyboard.\n",
    "- Code cells can also be edited when they are selected\n",
    "- Text/Markdown cells can also be edited by double-clicking on them. If you double-click on a text cell, the font will change and some strange symbols might appear. Just press Shift+Enter on your keyboard to revert to the usual display of the text\n",
    "\n",
    "**As a general rule, you should try to guess what each code cell will do before you execute. This will enhance your understanding. Feel free to experiment with editing the contents of code cells as well! You can also insert additional cells to experiment with your own code by pressing the \"+\" button at the top of the page.**"
   ]
  },
  {
   "cell_type": "markdown",
   "metadata": {},
   "source": [
    "## Arithmetic\n",
    "\n",
    "We'll start by using Python as a calculator. Addition (`+`), subtraction (`-`), and multiplication (`*`) behave as you'd expect from elementary school, with the same order of operations (multiplication is evaluated before addition or subtraction). What will happen when you execute the Python code in the next cell? Select it and press Shift+Enter to find out"
   ]
  },
  {
   "cell_type": "code",
   "execution_count": 19,
   "metadata": {
    "scrolled": true
   },
   "outputs": [
    {
     "data": {
      "text/plain": [
       "17"
      ]
     },
     "execution_count": 19,
     "metadata": {},
     "output_type": "execute_result"
    }
   ],
   "source": [
    "2+3*5"
   ]
  },
  {
   "cell_type": "markdown",
   "metadata": {},
   "source": [
    "A single code cell can contain many Python expressions, each on its own line. Only the result of evaluating the final expression will be displayed in the cell's output:"
   ]
  },
  {
   "cell_type": "code",
   "execution_count": 20,
   "metadata": {},
   "outputs": [
    {
     "data": {
      "text/plain": [
       "4"
      ]
     },
     "execution_count": 20,
     "metadata": {},
     "output_type": "execute_result"
    }
   ],
   "source": [
    "1+1\n",
    "1+2\n",
    "1+3"
   ]
  },
  {
   "cell_type": "markdown",
   "metadata": {},
   "source": [
    "If you want to display the result of multiple expressions from the same cell, you can use the `print()` command:"
   ]
  },
  {
   "cell_type": "code",
   "execution_count": 21,
   "metadata": {},
   "outputs": [
    {
     "name": "stdout",
     "output_type": "stream",
     "text": [
      "0\n",
      "-2\n"
     ]
    },
    {
     "data": {
      "text/plain": [
       "-3"
      ]
     },
     "execution_count": 21,
     "metadata": {},
     "output_type": "execute_result"
    }
   ],
   "source": [
    "print(1-1)\n",
    "1-2\n",
    "print(1-3)\n",
    "1-4"
   ]
  },
  {
   "cell_type": "markdown",
   "metadata": {},
   "source": [
    "There are two kinds of numbers in Python: **integers** and **floating point values**. Integers behave almost exactly like the positive and negative integers you are familiar with from math classes. Floating point values are almost, but not exactly, like real numbers. Every time you see a decimal point in a number in Python, it is a floating point number rather than an integer. For example:"
   ]
  },
  {
   "cell_type": "code",
   "execution_count": 22,
   "metadata": {},
   "outputs": [
    {
     "data": {
      "text/plain": [
       "28.799999999999997"
      ]
     },
     "execution_count": 22,
     "metadata": {},
     "output_type": "execute_result"
    }
   ],
   "source": [
    "2.4*12"
   ]
  },
  {
   "cell_type": "markdown",
   "metadata": {},
   "source": [
    "Notice that the expression didn't come out to exactly 28.8, as it would in real arithmetic! Arithmetic involving non-integer values is inherently imprecise in Python (and indeed in most programming languages). We'll discuss the issue at great length later on in the course.\n",
    "\n",
    "You can also do division in Python using the forward-slash (`/`) operator. Keep in mind that the result of the `/` operator is *always* a floating point number. Notice the decimal point when you evaluate the following expression:"
   ]
  },
  {
   "cell_type": "code",
   "execution_count": 23,
   "metadata": {},
   "outputs": [
    {
     "data": {
      "text/plain": [
       "3.0"
      ]
     },
     "execution_count": 23,
     "metadata": {},
     "output_type": "execute_result"
    }
   ],
   "source": [
    "9/3"
   ]
  },
  {
   "cell_type": "markdown",
   "metadata": {},
   "source": [
    "There is a separate integer division operator using two slashes: `//`. If you start with two integer values, this operator produces an integer value: specifically, it produces the greatest integer less than the result (i.e., the result of division ignoring the remainder):"
   ]
  },
  {
   "cell_type": "code",
   "execution_count": 24,
   "metadata": {},
   "outputs": [
    {
     "data": {
      "text/plain": [
       "3"
      ]
     },
     "execution_count": 24,
     "metadata": {},
     "output_type": "execute_result"
    }
   ],
   "source": [
    "10//3"
   ]
  },
  {
   "cell_type": "markdown",
   "metadata": {},
   "source": [
    "(Slightly confusingly, you can also perform the `//` operator on floating point numbers. But just because you can, doesn't mean you should! If you wish, feel free to try it to deduce its function.)\n",
    "\n",
    "What if we try to do something silly like divide by zero? Sensibly, Python throws an error:"
   ]
  },
  {
   "cell_type": "code",
   "execution_count": 26,
   "metadata": {},
   "outputs": [
    {
     "ename": "ZeroDivisionError",
     "evalue": "division by zero",
     "output_type": "error",
     "traceback": [
      "\u001b[0;31m---------------------------------------------------------------------------\u001b[0m",
      "\u001b[0;31mZeroDivisionError\u001b[0m                         Traceback (most recent call last)",
      "Cell \u001b[0;32mIn[26], line 1\u001b[0m\n\u001b[0;32m----> 1\u001b[0m \u001b[38;5;241m1\u001b[39m\u001b[38;5;241m/\u001b[39m\u001b[38;5;241m0\u001b[39m\n",
      "\u001b[0;31mZeroDivisionError\u001b[0m: division by zero"
     ]
    }
   ],
   "source": [
    "1/0"
   ]
  },
  {
   "cell_type": "markdown",
   "metadata": {},
   "source": [
    "Getting an error (or \"exception\") when running Python code isn't a big deal, and it will happen frequently. Fortunately, many of the most common Python exceptions come with helpful error messages: in this case, the error message tells us that we illegally divded by zero, and points to the exact line where the error occurred.\n",
    "\n",
    "You'll also get an error from \"ungrammatical\" expressions like the following:"
   ]
  },
  {
   "cell_type": "code",
   "execution_count": 27,
   "metadata": {},
   "outputs": [
    {
     "ename": "SyntaxError",
     "evalue": "invalid syntax (1200948652.py, line 1)",
     "output_type": "error",
     "traceback": [
      "\u001b[0;36m  Cell \u001b[0;32mIn[27], line 1\u001b[0;36m\u001b[0m\n\u001b[0;31m    10+*3\u001b[0m\n\u001b[0m       ^\u001b[0m\n\u001b[0;31mSyntaxError\u001b[0m\u001b[0;31m:\u001b[0m invalid syntax\n"
     ]
    }
   ],
   "source": [
    "10+*3"
   ]
  },
  {
   "cell_type": "markdown",
   "metadata": {},
   "source": [
    "We mention two additional, useful operators:\n",
    "- the *modulus* or *remainder* operator `%` gives the remainder after integer division\n",
    "- the *exponentiation* operator `**` computes a power.\n",
    "\n",
    "The order of operations evaluates `**` first, followed by `*`, `/`, `//`, and `%` (from left to right), followed by `+` and `-` (from left to right), more or less as in middle-school arithmetic. You can use parentheses to modify the order in which the operations are evaluated. What do you expect the following code to produce?"
   ]
  },
  {
   "cell_type": "code",
   "execution_count": 25,
   "metadata": {},
   "outputs": [
    {
     "name": "stdout",
     "output_type": "stream",
     "text": [
      "3\n",
      "25\n",
      "8\n",
      "-6\n"
     ]
    }
   ],
   "source": [
    "print((22+3)%11)\n",
    "print(22+3%11)\n",
    "print(2**3)\n",
    "print(1-3**2+4//2)"
   ]
  },
  {
   "cell_type": "markdown",
   "metadata": {},
   "source": [
    "## Variables\n",
    "\n",
    "*Variables* are used to store the results of Python expressions, so that you can reuse them in later computations. To assign a value to a variable, you use the *assignment operator* `=`, with the variable name on the left, and the value it should take on the right. For example, `pi = 3.14159` would create a variable named `pi` and give it the value `3.14159`. What do you expect the following code to do?"
   ]
  },
  {
   "cell_type": "code",
   "execution_count": 28,
   "metadata": {},
   "outputs": [
    {
     "name": "stdout",
     "output_type": "stream",
     "text": [
      "3.14159\n"
     ]
    }
   ],
   "source": [
    "radius = 1\n",
    "pi = 3.14159\n",
    "area = pi*radius**2\n",
    "print(area)"
   ]
  },
  {
   "cell_type": "markdown",
   "metadata": {},
   "source": [
    "You can always assign a new value to a variable. Also, within a Jupyter notebook, variables assigned in one cell are still accessible in another cell. For example, the following code runs without an error. (This is helpful for writing a program bit by bit and trying it out as you go. But it is also a **very common source of confusing bugs**: it's easy to accidentally reuse a variable with an old value you forgot you assigned.) What should the value of `circumerference` be?"
   ]
  },
  {
   "cell_type": "code",
   "execution_count": 30,
   "metadata": {},
   "outputs": [],
   "source": [
    "radius = radius+1\n",
    "circumference = 2*pi*radius"
   ]
  },
  {
   "cell_type": "markdown",
   "metadata": {},
   "source": [
    "It's good practice to give your variables descriptive names. Vague, generic variable names like `x` or `value` make your programs hard to read. By contrast, names like `area` and `radius` convey a great deal of information about what values to expect a variable to have, making your code easier to read, modify, and debug. Variable names need to satisfy the following rules:\n",
    "- use only (English) letters (upper or lowercase), numbers, and underscores (`_`) (no spaces or other special characters)\n",
    "- don't start with a number\n",
    "\n",
    "Variables that start with an underscore are allowed, but convey a special meaning and so should be avoided until you know what you're doing.\n",
    "\n",
    "For now, we'll adopt the convention that variable names should generally be entirely lowercase, with words separated by underscores, e.g. `interest_rate` or `average_height`. Adopting a consistent convention makes code easier to read and write, because variable names are easier to predict and remember."
   ]
  },
  {
   "cell_type": "markdown",
   "metadata": {},
   "source": [
    "## Comments\n",
    "\n",
    "Python will ignore any portion of a line following an octothorpe (`#`). This allows you to leave notes (or \"comments\") in your code, to make it easier to understand. It's good to get in the habit of leaving good comments in your code; its easy to forget what a particular piece of code is supposed to be doing, and if you come back to a program you wrote a week ago, or even an hour ago, it's helpful to have comments to remind you how it's supposed to work. For example, the comments, along with the descriptive variable names, (hopefully) make it clear what the following code is computing."
   ]
  },
  {
   "cell_type": "code",
   "execution_count": 29,
   "metadata": {},
   "outputs": [],
   "source": [
    "# Compute the volume of a cone with a circular base\n",
    "height = 10\n",
    "radius = 5 # the radius of the base\n",
    "base_area = pi*radius**2 # area of a circle\n",
    "volume = (1/3)*base_area*height # formula for the volume of a cone"
   ]
  },
  {
   "cell_type": "markdown",
   "metadata": {},
   "source": [
    "## Strings\n",
    "\n",
    "Python can manipulate text as easily as numbers. Text is in Python is generally represented with a **string**. Strings can be created by surrounding text with quotes (either double `\"` or single `'`, but use the same kind of quotes on each side)."
   ]
  },
  {
   "cell_type": "code",
   "execution_count": 31,
   "metadata": {},
   "outputs": [],
   "source": [
    "course_name = \"Applied Linear Algebra Practicum\"\n",
    "course_room = 'Goldsmith 226'"
   ]
  },
  {
   "cell_type": "markdown",
   "metadata": {},
   "source": [
    "Strings have their own rules for arithmetic. If you combine two strings with the `+` operator, they will be *concatenated*:"
   ]
  },
  {
   "cell_type": "code",
   "execution_count": 32,
   "metadata": {},
   "outputs": [
    {
     "name": "stdout",
     "output_type": "stream",
     "text": [
      "Applied Linear Algebra Practicum is held in Goldsmith 226\n"
     ]
    }
   ],
   "source": [
    "print(course_name + \" is held in \" + course_room)"
   ]
  },
  {
   "cell_type": "markdown",
   "metadata": {},
   "source": [
    "You can also multiply strings by integers to repeat them a number of times:"
   ]
  },
  {
   "cell_type": "code",
   "execution_count": 33,
   "metadata": {},
   "outputs": [
    {
     "data": {
      "text/plain": [
       "'KnockKnock'"
      ]
     },
     "execution_count": 33,
     "metadata": {},
     "output_type": "execute_result"
    }
   ],
   "source": [
    "\"Knock\"*2"
   ]
  },
  {
   "cell_type": "markdown",
   "metadata": {},
   "source": [
    "You cannot, however, add strings and numbers together. This is a good thing, because the result would be ambiguous:"
   ]
  },
  {
   "cell_type": "code",
   "execution_count": 38,
   "metadata": {},
   "outputs": [
    {
     "ename": "TypeError",
     "evalue": "can only concatenate str (not \"int\") to str",
     "output_type": "error",
     "traceback": [
      "\u001b[0;31m---------------------------------------------------------------------------\u001b[0m",
      "\u001b[0;31mTypeError\u001b[0m                                 Traceback (most recent call last)",
      "Cell \u001b[0;32mIn[38], line 1\u001b[0m\n\u001b[0;32m----> 1\u001b[0m \u001b[38;5;124m\"\u001b[39m\u001b[38;5;124m100\u001b[39m\u001b[38;5;124m\"\u001b[39m\u001b[38;5;241m+\u001b[39m\u001b[38;5;241m1\u001b[39m\n",
      "\u001b[0;31mTypeError\u001b[0m: can only concatenate str (not \"int\") to str"
     ]
    }
   ],
   "source": [
    "\"100\"+1 # Should this be the string \"1001\" or the integer 101? Python gives an error"
   ]
  },
  {
   "cell_type": "markdown",
   "metadata": {},
   "source": [
    "To combine strings and numbers (using concatenation or numerical addition) you need to first convert either the number to a string (for concatenation) or the string to a number (for numerical addition). Such conversion can be done using the `str`, `int`, and `float` functions:"
   ]
  },
  {
   "cell_type": "code",
   "execution_count": 39,
   "metadata": {},
   "outputs": [
    {
     "name": "stdout",
     "output_type": "stream",
     "text": [
      "1001\n",
      "101\n",
      "101.0\n"
     ]
    }
   ],
   "source": [
    "print(\"100\"+str(1)) # Convert the integer to a string, and concatenate\n",
    "print(int(\"100\")+1) # Convert the string to an integer, and add\n",
    "print(float(\"100\")+1) # Convert the string to a floating point number, and add"
   ]
  },
  {
   "cell_type": "markdown",
   "metadata": {},
   "source": [
    "(You can also use the `int` and `float` functions to convert between integer and floating point numerical types:)"
   ]
  },
  {
   "cell_type": "code",
   "execution_count": 40,
   "metadata": {},
   "outputs": [
    {
     "name": "stdout",
     "output_type": "stream",
     "text": [
      "3\n"
     ]
    }
   ],
   "source": [
    "print(int(pi)) # Python truncates to the greatest integer less than pi"
   ]
  },
  {
   "cell_type": "markdown",
   "metadata": {},
   "source": [
    "## Functions\n",
    "\n",
    "A variable is value that can be reused over and over again; a *function* is an entire block of code that can be reused over and over again. Let's see an example first, before we carefully go over the syntax and terminology surrounding functions."
   ]
  },
  {
   "cell_type": "code",
   "execution_count": null,
   "metadata": {},
   "outputs": [],
   "source": [
    "# We define a function called `greet` with a single parameter, `name`\n",
    "def greet(name):\n",
    "    # This function prints a greeting, personalized with the name parameter\n",
    "    print(\"Hello there, \"+name+\"!\")\n",
    "    \n",
    "# We now call the function twice, with different arguments\n",
    "greet(\"Alice\")\n",
    "greet(\"Bob\")"
   ]
  },
  {
   "cell_type": "markdown",
   "metadata": {},
   "source": [
    "In the code above, we first *defined* a function, to be used later. The first line of the function definition has four pieces:\n",
    "1. The special keyword `def` that is used whenever you define a function\n",
    "2. The name of this particular function (in this case `greet`). This is like a variable name; it's what we'll use to refer to the function later on. The same rules apply to function names as to variable names (e.g., only use letters, numbers, and underscores).\n",
    "3. A (comma-separated) list of function *parameters*, surrounded by parentheses. This list could be empty if the function doesn't take parameters. In this case, there is a single parameter (`name`) (so we didn't need any commas). We'll see an example later with more than one parameter. The parameters are like variables that can be used within the function.\n",
    "4. A colon (`:`) at the end.\n",
    "\n",
    "After the first line of the function definition, we have one or more lines of code that will be executed every time the function is called. These lines of code must all be indented using the same amount of whitespace; the usual convention is to use four spaces for the indentation. Within the Jupyter notebook, you can create those four spaces by pressing the Tab key. The function `greet` above has two lines of code in its definition, a comment and a `print` statement.\n",
    "\n",
    "Finally, after defining the function, we can *call* it to execute its code. Every time we call a function, we pass *arguments* to assign values for each of its parameters. These arguments appear in a comma-separated list surrounded by parentheses, in the same order as the parameter definition. In the above code, we first call the `greet` function with the `name` parameter equal to the value `\"Alice\"`, and then call it again with the `name` parameter assigned the value `\"Bob\"`.\n",
    "\n",
    "Most functions will compute some value or values that you will want to use in other parts of your program. These values need to be *returned* once they are computed. To return a value, use the special `return` keyword, followed by the value you want returned. You can think of the parameters of a function as its input, and its return value as its output. Note that a function will stop executing once it reaches a return statement.\n",
    "\n",
    "Before giving another example of a function, we first explain another construction that works very much like a comment in Python: a *docstring*. The convention in Python is to document each function you define by writing a string surrounded by three quotes (`\"\"\"like this\"\"\"`) on the first line of the function (right after the line with `def`). Usually the docstring will briefly describe what the function does, explain any parameters the function takes, and describe any values that are returned.\n",
    "\n",
    "In the following example, we have a function that has two parameters and returns a value. We have used a (rather extravagent) docstring to document it (the first six lines of the function)"
   ]
  },
  {
   "cell_type": "code",
   "execution_count": 41,
   "metadata": {},
   "outputs": [
    {
     "name": "stdout",
     "output_type": "stream",
     "text": [
      "3.333333333333333\n"
     ]
    }
   ],
   "source": [
    "def cone_volume(base_area, height):\n",
    "    \"\"\"Compute the volume of a cone with a given base area and height.\n",
    "    \n",
    "        base_area - the area of the base of the cone\n",
    "        height - the height of the cone\n",
    "        \n",
    "        Returns the volume of the cone\"\"\"\n",
    "    return (1/3)*base_area*height\n",
    "\n",
    "volume = cone_volume(5, 2) # Call the function cone_volume, and assign its return value to the variable `volume`\n",
    "print(volume)"
   ]
  },
  {
   "cell_type": "markdown",
   "metadata": {},
   "source": [
    "## Terminology\n",
    "\n",
    "We've covered a lot of ground here! In particular, we've introduced quite a bit of jargon. Let's now summarize all the terms used so far, and introduce some additional relevant terminology:\n",
    "\n",
    "\n",
    "- A *comment* is text following a `#` symbol that is not executed by Python, used to describe and explain the surrounding code\n",
    "```python\n",
    "# This is a comment.\n",
    "```\n",
    "- A *value* is a single unit of data in your code. For example, `12` is an integer value, and `\"hello\"` is a string value\n",
    "- A *statement* is a grammatically sensible piece of code\n",
    "```python\n",
    "x = 12 # A statement.\n",
    "print(x) # Another statement.\n",
    "x+3 # Yet another statement.\n",
    "```\n",
    "- An *expression* is a statement that, when run, evaluates to a single value\n",
    "```python\n",
    "4*(12//3) # An expression that evaluates to the integer 16\n",
    "str(1)+\"+\"+str(2)+\"=\"+str(1+2) # An expression that evaluates to the string \"1+2=3\"\n",
    "```\n",
    "- A *variable* is container that associates a single value with a name so that it can be reused\n",
    "```python\n",
    "age = 19\n",
    "# age is a variable. Its value is an integer\n",
    "```\n",
    "- A *string* is a value representing text\n",
    "- An `int` is a type of numerical value representing positive or negative integers. You can expect Python to perform arithmetic with `int` values exactly\n",
    "- A `float` is a type of numerical value representing real numbers. You should expect any arithmetic you perform with `float` values to give inexact (but reasonably accurate) results\n",
    "- A *function* is an organizational unit of reusable code. Functions are *defined* using a statement starting with the `def` keyword, followed by one or more indented lines of code\n",
    "- - Functions can have zero or more *parameters*. A parameter is a variable whose value is assigned when the function is called.\n",
    "- - Values can be *passed* to a function as input when the function is called. These values are called *arguments*; each argument is assigned to a parameter variable\n",
    "- - A function can *return* a value as output. When the function is called, it evaluates to its return value.\n",
    "```python\n",
    "def function_name(parameter1, parameter2):\n",
    "        \"\"\"The docstring goes here and explains the function.\"\"\"\n",
    "        print(\"The first line of this function prints something.\")\n",
    "        x = parameter1 + parameter2 # The second line of the function\n",
    "        return x*2 # A return statement. The value x*2 is returned by this function\n",
    "function_name(1, 2)\n",
    "# The function is called with arguments 1 and 2, which are assigned to parameter1 and parameter2.\n",
    "# The above function call evaluates to 6\n",
    "```"
   ]
  },
  {
   "cell_type": "code",
   "execution_count": null,
   "metadata": {},
   "outputs": [],
   "source": []
  },
  {
   "cell_type": "code",
   "execution_count": null,
   "metadata": {},
   "outputs": [],
   "source": []
  }
 ],
 "metadata": {
  "kernelspec": {
   "display_name": "Python 3",
   "language": "python",
   "name": "python3"
  },
  "language_info": {
   "codemirror_mode": {
    "name": "ipython",
    "version": 3
   },
   "file_extension": ".py",
   "mimetype": "text/x-python",
   "name": "python",
   "nbconvert_exporter": "python",
   "pygments_lexer": "ipython3",
   "version": "3.11.5"
  }
 },
 "nbformat": 4,
 "nbformat_minor": 2
}
