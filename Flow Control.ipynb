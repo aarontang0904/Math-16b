{
 "cells": [
  {
   "cell_type": "markdown",
   "metadata": {},
   "source": [
    "# Flow Control\n",
    "\n",
    "*Flow control* statements make up the logical core of virtually any program. These statements allow a program to make decisions with more than one possible outcome, or automatically repeat an action many times."
   ]
  },
  {
   "cell_type": "markdown",
   "metadata": {},
   "source": [
    "## Boolean Values\n",
    "\n",
    "In mathematics, you encounter many sorts of propositions that are either true or false -- whether a set is empty, whether a map is linear, etc. In Python, these binary, logical possibilities are represented by *Boolean* values. There are two possible values of Boolean type in Python: `True` and `False`. (These are Python keywords, not strings, so you don't need quotes. Capitalization matters.) Three operators are relevant for Boolean values: `and`, `or`, and `not`. These have exactly the meaning you are accustomed to from mathematics class. (In particular, `or` is non-exclusive, so `True or True` evaluates to `True`.)"
   ]
  },
  {
   "cell_type": "code",
   "execution_count": 1,
   "metadata": {},
   "outputs": [
    {
     "name": "stdout",
     "output_type": "stream",
     "text": [
      "True\n",
      "True\n"
     ]
    }
   ],
   "source": [
    "satisfies_oral_communication = True\n",
    "satisfies_digital_literacy = True\n",
    "cool_professor = False\n",
    "\n",
    "print((satisfies_oral_communication and satisfies_digital_literacy) or cool_professor)\n",
    "print(not cool_professor)"
   ]
  },
  {
   "cell_type": "markdown",
   "metadata": {},
   "source": [
    "Boolean values commonly arise in programs as the result of evaluating *comparison operators*. Given a pair of numeric values, say `a` and `b`, we can compare them for equality, inequality, etc.:\n",
    "- Equality: `a == b` evaluates to `True` if the numbers are exactly equal, otherwise it evalues to `False`\n",
    "- Inequality: `a != b` is equivalent to `not (a == b)`\n",
    "- Greater than/less than: `a > b` and `a < b` mean exactly what they mean in math class\n",
    "- Greater than or equal to/less than or equal to: `a >= b` is equivalent to `not (a < b)`, and similarly for `a <= b`\n",
    "\n",
    "Notice that the equality operator uses two equals signs, while the assignment operator uses just one. **It's important to internalize the difference between the two:**\n",
    "- The assignment operator `a = b` causes the value of `b` to be stored in a variable named `a`\n",
    "- The equality operator `a == b` evaluates to either `True` or `False`, depending on whether or not `a` and `b` have the same value\n",
    "\n",
    "The equality and inequality operators also work with strings: two strings are equal if they are character-for-character identical (case sensitive, and including whitespace). But a numeric value is never equal to a string value. (The greater than, less than, etc. operators also work on strings; they compare lexicographic order.)"
   ]
  },
  {
   "cell_type": "code",
   "execution_count": 2,
   "metadata": {},
   "outputs": [
    {
     "name": "stdout",
     "output_type": "stream",
     "text": [
      "True\n",
      "True\n",
      "True\n",
      "True\n",
      "True\n",
      "True\n"
     ]
    }
   ],
   "source": [
    "print(1 == 1.0) #Equal as numbers, although one is an integer and the other is a floating point value\n",
    "print('one' != 'One') #String equality is case-sensitive\n",
    "print(1 != '1') #Integers are never equal to strings\n",
    "print(1 == int('1'))\n",
    "print('apple' < 'bird') #String order comparisons use lexicographic order\n",
    "print(1 < 2 < 3) # Comparison operators can be combined, following their usual mathematical meaning\n",
    "                 # (equivalent to (1 < 2) and (2 < 3))"
   ]
  },
  {
   "cell_type": "markdown",
   "metadata": {},
   "source": [
    "We have mentioned in the previous reading that floating point arithmetic is inexact. As a consequence, checking floating point numbers for exact equality can lead to unexpected and unpredictable behavior, and should generally be avoided. We will discuss techniques for mitigating floating point inaccuracy in later lessons. "
   ]
  },
  {
   "cell_type": "code",
   "execution_count": 3,
   "metadata": {},
   "outputs": [
    {
     "name": "stdout",
     "output_type": "stream",
     "text": [
      "False\n"
     ]
    }
   ],
   "source": [
    "# Unexpected behavior can arise when checking floating point numbers for equality,\n",
    "# due to the INHERENT INACCURACY of floating point arithemtic.\n",
    "# You will not see this behavior using integers\n",
    "x = 0.1\n",
    "y = x + x + x\n",
    "print(y == 0.3)"
   ]
  },
  {
   "cell_type": "markdown",
   "metadata": {},
   "source": [
    "We mention a final operator that produces Boolean values using strings. The `in` operator checks for membership. Given a string `a` and a string `b`, the expression `a in b` evalues to `True` iff `a` appears as a contiguous substring of `b`. See if you can predict the output of the following code snippet before executing it."
   ]
  },
  {
   "cell_type": "code",
   "execution_count": 4,
   "metadata": {},
   "outputs": [
    {
     "name": "stdout",
     "output_type": "stream",
     "text": [
      "False\n",
      "True\n",
      "False\n"
     ]
    }
   ],
   "source": [
    "print('I' in 'team')\n",
    "print('ear' in 'bears')\n",
    "print('bs' in 'bears')"
   ]
  },
  {
   "cell_type": "markdown",
   "metadata": {},
   "source": [
    "## Conditionals\n",
    "\n",
    "Now that we have a rich set of operators that produce Boolean values, we are ready to write programs that make decisions based on these Boolean values. This is accomplished using *conditional expressions*, which cause a block of code to execute based on the Boolean value of an expression. For example, the following block of code packs a virtual backpack, based on variables representing the current day of the week and the weather."
   ]
  },
  {
   "cell_type": "code",
   "execution_count": 16,
   "metadata": {},
   "outputs": [
    {
     "name": "stdout",
     "output_type": "stream",
     "text": [
      "computer notebook \n"
     ]
    }
   ],
   "source": [
    "day_of_week = 3 # 0 means Sunday, 6 means Saturday\n",
    "weather = \"sunny\"\n",
    "\n",
    "backpack = \"\" # string listing contents of backpack\n",
    "if 1 <= day_of_week <= 5:\n",
    "    # It's a weekday, so we have school\n",
    "    backpack = backpack + \"computer \"\n",
    "    backpack = backpack + \"notebook \"\n",
    "if weather == \"rainy\":\n",
    "    backpack = backpack + \"umbrella \"\n",
    "print(backpack)"
   ]
  },
  {
   "cell_type": "markdown",
   "metadata": {},
   "source": [
    "The syntax for an `if` statement is as above:\n",
    "- first, a line of the form `if boolean_expression:`, where `boolean_expression` is an arbitrary Python expression that produces a Boolean value. Notice the colon (`:`) at the end of the line.\n",
    "- then, one or more indented lines of code. These lines are executed if and only if the `boolean_expression` in the first line evaluates to True when the Python interpreter reaches the `if` statement.\n",
    "\n",
    "It's common to want to do one thing if a particular expression evaluates to `True`, and another if it evaluates to `False`. This can be accomplished with two `if` statements, but Python provides a more convenient expression: the `else` statement, which is a statement immediately following an `if` statement, of the following form:"
   ]
  },
  {
   "cell_type": "code",
   "execution_count": 6,
   "metadata": {},
   "outputs": [
    {
     "name": "stdout",
     "output_type": "stream",
     "text": [
      "computer notebook lunchbox \n"
     ]
    }
   ],
   "source": [
    "if day_of_week == 2:\n",
    "    # I go out to lunch on Tuesdays, so I'd better pack my wallet\n",
    "    backpack = backpack + \"wallet \"\n",
    "else:\n",
    "    # On other days, I pack a lunch\n",
    "    backpack = backpack + \"lunchbox \"\n",
    "    \n",
    "print(backpack)"
   ]
  },
  {
   "cell_type": "markdown",
   "metadata": {},
   "source": [
    "The above code \"packs\" a wallet on Tuesdays, and a lunchbox on every other day.\n",
    "\n",
    "For more complex decisions, with more than two possible outcomes, the `elif` (\"else if\") statement is convenient. You can place any number of `elif` blocks following an `if` block, but preceeding the (optional) `else` block. An `elif` block is executed if and only if its corresponding boolean expression evaluates to `True`, and the boolean expressions on *all* preceding `if` and `elif` statements evaluated to `False`. See if you can predict the output of the following code segment:"
   ]
  },
  {
   "cell_type": "code",
   "execution_count": 7,
   "metadata": {},
   "outputs": [
    {
     "name": "stdout",
     "output_type": "stream",
     "text": [
      "Please put your phone away.\n"
     ]
    }
   ],
   "source": [
    "age = 26\n",
    "\n",
    "if age < 6:\n",
    "    print(\"Awww, how cute!\")\n",
    "elif age > 56:\n",
    "    print(\"Ok, boomer.\")\n",
    "elif age < 30:\n",
    "    print(\"Please put your phone away.\")\n",
    "elif age > 21:\n",
    "    print(\"Let me see that ID.\")\n",
    "else:\n",
    "    print(\"This statement will never be printed. (Why?)\")"
   ]
  },
  {
   "cell_type": "markdown",
   "metadata": {},
   "source": [
    "Finally, we note that blocks of code can be nested in other blocks of code. For example, conditionals can be nested within the code blocks of other conditionals, or within functions, as in the following example. Notice that multiple levels of indentation are needed to capture the nested structure of the conditionals within the function."
   ]
  },
  {
   "cell_type": "code",
   "execution_count": 8,
   "metadata": {},
   "outputs": [
    {
     "data": {
      "text/plain": [
       "1"
      ]
     },
     "execution_count": 8,
     "metadata": {},
     "output_type": "execute_result"
    }
   ],
   "source": [
    "def num_solutions(a, b, c):\n",
    "    # This function outputs the number of real solutions (0, 1, or 2) to the quadratic equation\n",
    "    # ax**2 + bx + c = 0\n",
    "    discriminant = b**2 - 4*a*c\n",
    "    if discriminant > 0:\n",
    "        return 2\n",
    "    elif discriminant == 0:\n",
    "        return 1\n",
    "    else:\n",
    "        # discriminant < 0\n",
    "        return 0\n",
    "    \n",
    "num_solutions(1,2,1)"
   ]
  },
  {
   "cell_type": "markdown",
   "metadata": {},
   "source": [
    "## Loops\n",
    "\n",
    "Loops allow a block of code to be repeated a variable number of times. The simplest kind of loop is a `while` loop. The syntax is identical to an `if` statement, with the `if` keyword replaced with the keyword `while`. Just as with an `if` statement, the block of code corresponing to a `while` statement will be executed if and only if the boolean expression for the statement evaluates to `True`. However, after completing executiong of the block of code for a while loop, execution returns to the top, and the boolean expression is re-evaluated. The block of code will continue executing as many times as it takes for the boolean expression to become `False` (possibily looping forever). We now give an example:"
   ]
  },
  {
   "cell_type": "code",
   "execution_count": 9,
   "metadata": {},
   "outputs": [
    {
     "name": "stdout",
     "output_type": "stream",
     "text": [
      "16 is the smallest integer greater than 1 such that 2^i >= i^4\n"
     ]
    }
   ],
   "source": [
    "i = 2\n",
    "while 2**i < i**4:\n",
    "    i = i + 1\n",
    "print(str(i) + \" is the smallest integer greater than 1 such that 2^i >= i^4\")"
   ]
  },
  {
   "cell_type": "markdown",
   "metadata": {},
   "source": [
    "In the above example, the first time the `while` loop's condition is evaluated, we have $i = 2$ and so $2^i = 4 < 16 = i^4$ and the `while` loop's condition evaluates to `True`. So the block of code within the while loop is executed. This code increases the value of $i$ from $2$ to $3$. Evaluating the `while` loop's condition once again, we have $2^i = 8 < 81 = 3^4$, so the `while` loop's condition again evaluates to `True`, and we again execute the block of code within the while loop, increase the value of $i$ to $4$. This repeats another dozen times, until $i = 16$, and the condition is no longer satisfied. At this point, execution continues on to the line of code coming after the `while` loop's block of code.\n",
    "\n",
    "It's entirely possible to write code the loops indefinitely. If your code is stuck in an infinite loop, or just taking a very long time to execute, you can try halting it by pressing Ctrl+C, or selecting \"Interrupt\" from the Kernel menu above.\n",
    "\n",
    "We remark that expressions like the line `i = i + 1` in the above loop, that modify a variable by adding some quantity to it, are extremely common --- so common, in fact, that Python includes a handy shortcut: `i += 1` means exactly the same thing as `i = i + 1`. (There are similar expressions using operators such as `-=` or `*=`, with addition replaced by the `-` or `*`, etc.)"
   ]
  },
  {
   "cell_type": "markdown",
   "metadata": {},
   "source": [
    "One challenge in writing a `while` loop is that the loop's condition must be evaluated in the same place every time: the start (or end) of the block of code. But it's possible to decide to exit a loop at any point, using a `break` statement, which immediately exits the loop, and continues on whatever code follows the loop, without re-evaluating the loop's condition.\n",
    "\n",
    "As an example, imagine you want to find some proper divisor of an integer `n` (i.e., an integer, other than `n` or `1`, which divides `n`). The following loop searches for a divisor of `n` among the integers between $2$ and $n-1$. But if we only want one divisor, there's no need to continue searching after we've found one, so we include a `break` statement to exit the loop."
   ]
  },
  {
   "cell_type": "code",
   "execution_count": 20,
   "metadata": {},
   "outputs": [
    {
     "name": "stdout",
     "output_type": "stream",
     "text": [
      "divisor = 2\n",
      "divisor = 3\n",
      "divisor = 4\n",
      "divisor = 5\n",
      "divisor = 6\n",
      "divisor = 7\n",
      "Found a divisor: 7\n"
     ]
    }
   ],
   "source": [
    "n = 91\n",
    "d = 2\n",
    "\n",
    "while d < n:\n",
    "    print(\"divisor = \"+str(d))\n",
    "    if n%d == 0:\n",
    "        print(\"Found a divisor: \" + str(d))\n",
    "        break\n",
    "    d += 1 # increment d by 1"
   ]
  },
  {
   "cell_type": "markdown",
   "metadata": {},
   "source": [
    "# Truthy expressions\n",
    "\n",
    "In the `if` and `while` statements we considered above, we used conditions that evaluated to Boolean expressions. In fact, you can use much more general Python expressions as your condition for an `if` or `while` statement, and Python will convert it to a Boolean value according to the following rules:\n",
    "- an integer behaves like `True`, unless it equals `0` (in which case it behaves like `False`)\n",
    "- a float behaves like `True`, unless it equals `0.0`\n",
    "- a string behaves like `True`, unless it is the empty string `\"\"`"
   ]
  },
  {
   "cell_type": "code",
   "execution_count": 11,
   "metadata": {},
   "outputs": [
    {
     "name": "stdout",
     "output_type": "stream",
     "text": [
      "Sorry, I didn't catch your name.\n"
     ]
    }
   ],
   "source": [
    "name = \"\"\n",
    "if name:\n",
    "    print(\"Hi there, \" + name)\n",
    "else:\n",
    "    print(\"Sorry, I didn't catch your name.\")"
   ]
  },
  {
   "cell_type": "markdown",
   "metadata": {},
   "source": [
    "# A bit on lists"
   ]
  },
  {
   "cell_type": "markdown",
   "metadata": {},
   "source": [
    "We will learn more about lists later in the course, but for now, it will be useful to show a way to do a for loop on things that aren't just numbers from 0 to n. A *list* is an ordered collection of items. In our case, they will be numbers:\n",
    "\n",
    "``numbers = [1, 0, 1, 2]``\n",
    "\n",
    "We can *index* into a list in the following manner:"
   ]
  },
  {
   "cell_type": "code",
   "execution_count": 12,
   "metadata": {},
   "outputs": [
    {
     "data": {
      "text/plain": [
       "2"
      ]
     },
     "execution_count": 12,
     "metadata": {},
     "output_type": "execute_result"
    }
   ],
   "source": [
    "numbers = [1, 0, 1, 2]\n",
    "numbers[3]"
   ]
  },
  {
   "cell_type": "markdown",
   "metadata": {},
   "source": [
    "Notice that this returned `2`, because the list numbering starts at `0`. We can combine this with a `for` loop to print the whole list, or to manipulate the list items"
   ]
  },
  {
   "cell_type": "code",
   "execution_count": 13,
   "metadata": {},
   "outputs": [
    {
     "name": "stdout",
     "output_type": "stream",
     "text": [
      "1\n",
      "0\n",
      "1\n",
      "2\n"
     ]
    }
   ],
   "source": [
    "for i in range(4):\n",
    "    print(numbers[i])"
   ]
  },
  {
   "cell_type": "code",
   "execution_count": 14,
   "metadata": {},
   "outputs": [
    {
     "name": "stdout",
     "output_type": "stream",
     "text": [
      "1\n",
      "0\n",
      "1\n",
      "8\n"
     ]
    }
   ],
   "source": [
    "for i in range(4):\n",
    "    print(numbers[i]**3)"
   ]
  }
 ],
 "metadata": {
  "kernelspec": {
   "display_name": "Python 3 (ipykernel)",
   "language": "python",
   "name": "python3"
  },
  "language_info": {
   "codemirror_mode": {
    "name": "ipython",
    "version": 3
   },
   "file_extension": ".py",
   "mimetype": "text/x-python",
   "name": "python",
   "nbconvert_exporter": "python",
   "pygments_lexer": "ipython3",
   "version": "3.11.5"
  }
 },
 "nbformat": 4,
 "nbformat_minor": 2
}
