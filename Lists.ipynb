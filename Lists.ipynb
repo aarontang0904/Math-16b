{
 "cells": [
  {
   "cell_type": "markdown",
   "metadata": {},
   "source": [
    "# Lists, for loops, and iterators\n",
    "\n",
    "In this lecture, we introduce `list`s, one of the most essential Python data structures. We will also introduce a new flow control statement, the `for` loop, which is much more commonly used in Python programming than `while` loops. And we will give a very high level overview of Python iterators.\n",
    "\n",
    "As always, this reading will be more useful if you actively interact with the code blocks. Try to predict and understand what each block of code is doing, and then check your understanding by executing the code (and editing it, if you like).\n",
    "\n",
    "## Introduction to lists\n",
    "\n",
    "There a several ways to represent a sequence of values in Python; for now, we'll just use *lists*. Lists are ordered sequences of arbitary *items*, of the same or different types. To define a list, put a comma-separated sequence of Python expressions between two square brackets:"
   ]
  },
  {
   "cell_type": "code",
   "execution_count": 30,
   "metadata": {},
   "outputs": [],
   "source": [
    "herbs = [\"basil\", \"thyme\", \"sage\", \"oregano\"] # a list of 4 strings\n",
    "primes = [2, 3, 5, 7, 11] # a list of 5 integers\n",
    "useless_list = [\"lint\", -43.6, primes] # a list with three elements (a string, a float, and a list)"
   ]
  },
  {
   "cell_type": "markdown",
   "metadata": {},
   "source": [
    "The simplest way to access a particular item in a list is via its numerical **index**: its position in the list, counting up from **zero**. Use square-bracket notation to access items by index:"
   ]
  },
  {
   "cell_type": "code",
   "execution_count": 31,
   "metadata": {},
   "outputs": [
    {
     "name": "stdout",
     "output_type": "stream",
     "text": [
      "I used basil and oregano in my pizza sauce.\n"
     ]
    }
   ],
   "source": [
    "print(\"I used \" + herbs[0] + \" and \" + herbs[3] + \" in my pizza sauce.\")"
   ]
  },
  {
   "cell_type": "markdown",
   "metadata": {},
   "source": [
    "You can assign a value to a particular list item in the same way:"
   ]
  },
  {
   "cell_type": "code",
   "execution_count": 32,
   "metadata": {},
   "outputs": [
    {
     "name": "stdout",
     "output_type": "stream",
     "text": [
      "['basil', 'thyme', 'rosemary', 'oregano']\n"
     ]
    }
   ],
   "source": [
    "herbs[2] = \"rosemary\" # Replace \"sage\" with \"rosemary\" as the third item in the list of herbs\n",
    "print(herbs)"
   ]
  },
  {
   "cell_type": "markdown",
   "metadata": {},
   "source": [
    "Python provides a wide array of methods for accessing and manipulating lists. For now, we'll see just four useful techniques.\n",
    "\n",
    "First, you can check whether a particular item appears somewhere in a list by using the `in` keyword. If `x` is a list and `item` is a Python value, the expression `item in x` evaluates to `True` if the item appears somewhere in the list, and evaluates to `False` otherwise."
   ]
  },
  {
   "cell_type": "code",
   "execution_count": 33,
   "metadata": {},
   "outputs": [
    {
     "name": "stdout",
     "output_type": "stream",
     "text": [
      "True\n",
      "False\n"
     ]
    }
   ],
   "source": [
    "print(\"basil\" in herbs) # evaluates to True\n",
    "print(\"marjoram\" in herbs) # evaluates to False"
   ]
  },
  {
   "cell_type": "markdown",
   "metadata": {},
   "source": [
    "Next, just as with strings, you can use the `+` operator to concatenate two lists together."
   ]
  },
  {
   "cell_type": "code",
   "execution_count": 34,
   "metadata": {},
   "outputs": [
    {
     "name": "stdout",
     "output_type": "stream",
     "text": [
      "[0, 1, 2, 3, 4, 5]\n"
     ]
    }
   ],
   "source": [
    "print([0,1,2] + [3,4,5]) # Concatenate two lists together with +"
   ]
  },
  {
   "cell_type": "markdown",
   "metadata": {},
   "source": [
    "The `len` function is also useful. If `x` is a list, then `len(x)` gives its length, i.e., the number of items in `x`."
   ]
  },
  {
   "cell_type": "code",
   "execution_count": 35,
   "metadata": {},
   "outputs": [
    {
     "name": "stdout",
     "output_type": "stream",
     "text": [
      "3\n",
      "6\n"
     ]
    }
   ],
   "source": [
    "print(len([0,1,2])) # There are three items\n",
    "print(len([0,1,2] + [0,1,2])) # There are six items (repeated items count separately)"
   ]
  },
  {
   "cell_type": "markdown",
   "metadata": {},
   "source": [
    "Finally, we mention the `append` method. If you want to tack an additional item (say, `item`) onto the end of a list `x`, you can use the method `x.append(item)` to modify `x` by putting the item at the end of the list."
   ]
  },
  {
   "cell_type": "code",
   "execution_count": 36,
   "metadata": {},
   "outputs": [
    {
     "name": "stdout",
     "output_type": "stream",
     "text": [
      "There are 5 items in our list of primes\n",
      "[2, 3, 5, 7, 11, 13, 17]\n",
      "Now there are 7 items in our list of primes\n"
     ]
    }
   ],
   "source": [
    "primes = [2, 3, 5, 7, 11]\n",
    "print(\"There are \"+str(len(primes))+\" items in our list of primes\") # len(primes) is an integer\n",
    "primes.append(13) # the next prime after 11 is 13\n",
    "primes.append(17)\n",
    "print(primes)\n",
    "print(\"Now there are \"+str(len(primes))+\" items in our list of primes\")"
   ]
  },
  {
   "cell_type": "code",
   "execution_count": 38,
   "metadata": {},
   "outputs": [
    {
     "name": "stdout",
     "output_type": "stream",
     "text": [
      "[1, [...]]\n"
     ]
    }
   ],
   "source": [
    "x=[1]\n",
    "x.append(x)\n",
    "print(x[1])"
   ]
  },
  {
   "cell_type": "markdown",
   "metadata": {},
   "source": [
    "## For loops\n",
    "\n",
    "In typical Python programming, `while` loops are used much *less* frequently than another kind of loop: the `for` loop. Recall that a `while` loop repeats the execution of a block of code until a Boolean expression evaluates to `False`. In order to perform common tasks like iterating over the first `n` integers using a `while` loop, we must introduce a variable to track which iteration we are currently performing, and manually increment it. A `for` loop makes this task, and many other common programming tasks, much more convenient.\n",
    "\n",
    "The simplest use of a `for` loop is to repeat a block of code for every item on a list."
   ]
  },
  {
   "cell_type": "code",
   "execution_count": 39,
   "metadata": {},
   "outputs": [
    {
     "name": "stdout",
     "output_type": "stream",
     "text": [
      "Hello, Alice\n",
      "Hello, Bob\n",
      "Hello, Carol\n"
     ]
    }
   ],
   "source": [
    "students = [\"Alice\", \"Bob\", \"Carol\"]\n",
    "\n",
    "for student in students:\n",
    "    print(\"Hello, \" + student)"
   ]
  },
  {
   "cell_type": "markdown",
   "metadata": {},
   "source": [
    "In the above block of code, a `for` loop is used to iterate over each item on the list `students`, and to print a greeting for each item on the list. The `for` loop iteratively sets the variable `student` equal to each item on the list `students`, in order, and then executes the indented block of code with that value of the variable `student`. So in the first iteration, `student` is assigned the value `\"Alice\"`, etc. Once the end of the list is reached, execution moves to any (non-indented) statements following the `for` loop.\n",
    "\n",
    "This simple and readable code should be contrasted with how we would have to achieve the same effect using a while loop:"
   ]
  },
  {
   "cell_type": "code",
   "execution_count": 40,
   "metadata": {},
   "outputs": [
    {
     "name": "stdout",
     "output_type": "stream",
     "text": [
      "Hello, Alice\n",
      "Hello, Bob\n",
      "Hello, Carol\n"
     ]
    }
   ],
   "source": [
    "# This is a worse way of achieving the same thing as the for loop above\n",
    "# Don't do this, it's less readable and more error-prone\n",
    "\n",
    "i = 0\n",
    "while i < len(students):\n",
    "    print(\"Hello, \" + students[i])\n",
    "    i += 1"
   ]
  },
  {
   "cell_type": "markdown",
   "metadata": {},
   "source": [
    "Just as with `while` loops, if you want to exit a `for` loop early you can use a `break` statement.\n",
    "\n",
    "It may also happen that at some point during execution of a `for` or `while` loop, we wish to skip ahead to the next iteration through a loop. This is accomplished with a `continue` statement. When a `continue` statement is encountered within a loop, execution immediately returns to the very beginning of the loop; in the case of a `while` loop, the loop's Boolean condition is evaluated once again, and in the case of a `for` loop, the next item in the list or iterable sequence is processed."
   ]
  },
  {
   "cell_type": "code",
   "execution_count": 41,
   "metadata": {},
   "outputs": [
    {
     "name": "stdout",
     "output_type": "stream",
     "text": [
      " I really like math class.\n"
     ]
    }
   ],
   "source": [
    "words = [\"I\", \"uh\", \"really\", \"um\", \"uh\", \"like\", \"um\", \"math\", \"class.\"]\n",
    "\n",
    "sentence = \"\"\n",
    "for word in words:\n",
    "    if word in [\"uh\", \"um\"]:\n",
    "        # Avoiding saying \"uh\" and \"um\"\n",
    "        continue\n",
    "    sentence += \" \" + word\n",
    "print(sentence)"
   ]
  },
  {
   "cell_type": "markdown",
   "metadata": {},
   "source": [
    "## Iterable types\n",
    "\n",
    "In fact, a `for` loop can be used to iterate over arbitrary *iterable* structures in Python, of which lists are just one example. Another example of an iterable Python type is a string. Iterating over a string using a `for` loop will give you access to each character, one at a time. For example, the following loop counts the number of times the letter 'e' occurs in a sentence"
   ]
  },
  {
   "cell_type": "code",
   "execution_count": 42,
   "metadata": {},
   "outputs": [
    {
     "name": "stdout",
     "output_type": "stream",
     "text": [
      "The sentence has 7 occurrences of 'e'.\n"
     ]
    }
   ],
   "source": [
    "sentence = \"The letter 'e' is the most common letter.\"\n",
    "\n",
    "e_count = 0\n",
    "for character in sentence:\n",
    "    if character == 'e':\n",
    "        e_count += 1\n",
    "    \n",
    "print(\"The sentence has \" + str(e_count) + \" occurrences of 'e'.\")"
   ]
  },
  {
   "cell_type": "markdown",
   "metadata": {},
   "source": [
    "### A brief remark on strings\n",
    "\n",
    "Actually, `string`s and `list`s have more in common than being iterable structures. Just like lists, you can use the square-bracket index notation to access a specific character in a string:"
   ]
  },
  {
   "cell_type": "code",
   "execution_count": 43,
   "metadata": {},
   "outputs": [
    {
     "name": "stdout",
     "output_type": "stream",
     "text": [
      "O\n"
     ]
    }
   ],
   "source": [
    "mascot = \"Ollie the Owl\"\n",
    "\n",
    "first_letter = mascot[0]\n",
    "print(first_letter)"
   ]
  },
  {
   "cell_type": "markdown",
   "metadata": {},
   "source": [
    "Similarly, one can use `len` to get the length of a string (as the number of characters in the string)."
   ]
  },
  {
   "cell_type": "code",
   "execution_count": 44,
   "metadata": {},
   "outputs": [
    {
     "name": "stdout",
     "output_type": "stream",
     "text": [
      "13\n"
     ]
    }
   ],
   "source": [
    "print(len(mascot))"
   ]
  },
  {
   "cell_type": "markdown",
   "metadata": {},
   "source": [
    "You can also use the `in` keyword with strings, but it works somewhat differently than with lists. For strings `x` and `y`, the expression `x in y` evaluates to `True` if and only if `x` appears as a contiguous substring of `y`."
   ]
  },
  {
   "cell_type": "code",
   "execution_count": 45,
   "metadata": {},
   "outputs": [
    {
     "name": "stdout",
     "output_type": "stream",
     "text": [
      "False\n",
      "True\n",
      "False\n"
     ]
    }
   ],
   "source": [
    "print(\"I\" in \"team\")\n",
    "print(\"tea\" in \"team\")\n",
    "print(\"tm\" in \"team\")"
   ]
  },
  {
   "cell_type": "markdown",
   "metadata": {},
   "source": [
    "However, while we can assign new values to list items using square-bracket notation, it is not possible to do the same with strings. In Python parlance, we say `list`s are *mutable* (their entries can be changed) while `string`s are *immutable*."
   ]
  },
  {
   "cell_type": "code",
   "execution_count": 46,
   "metadata": {},
   "outputs": [
    {
     "ename": "TypeError",
     "evalue": "'str' object does not support item assignment",
     "output_type": "error",
     "traceback": [
      "\u001b[0;31m---------------------------------------------------------------------------\u001b[0m",
      "\u001b[0;31mTypeError\u001b[0m                                 Traceback (most recent call last)",
      "Cell \u001b[0;32mIn[46], line 4\u001b[0m\n\u001b[1;32m      2\u001b[0m courses[\u001b[38;5;241m0\u001b[39m] \u001b[38;5;241m=\u001b[39m \u001b[38;5;124m\"\u001b[39m\u001b[38;5;124mMath 22a\u001b[39m\u001b[38;5;124m\"\u001b[39m \u001b[38;5;66;03m# You can use square-bracket notation to change the items on a list\u001b[39;00m\n\u001b[1;32m      3\u001b[0m course \u001b[38;5;241m=\u001b[39m \u001b[38;5;124m\"\u001b[39m\u001b[38;5;124mMath 22a\u001b[39m\u001b[38;5;124m\"\u001b[39m\n\u001b[0;32m----> 4\u001b[0m \u001b[43mcourse\u001b[49m\u001b[43m[\u001b[49m\u001b[38;5;241;43m7\u001b[39;49m\u001b[43m]\u001b[49m \u001b[38;5;241m=\u001b[39m \u001b[38;5;124m\"\u001b[39m\u001b[38;5;124mb\u001b[39m\u001b[38;5;124m\"\u001b[39m \u001b[38;5;66;03m# Error! You cannot change an existing string, you can only make new strings\u001b[39;00m\n",
      "\u001b[0;31mTypeError\u001b[0m: 'str' object does not support item assignment"
     ]
    }
   ],
   "source": [
    "courses = [\"Math 15a\", \"Math 16b\"]\n",
    "courses[0] = \"Math 22a\" # You can use square-bracket notation to change the items on a list\n",
    "course = \"Math 22a\"\n",
    "course[7] = \"b\" # Error! You cannot change an existing string, you can only make new strings"
   ]
  },
  {
   "cell_type": "markdown",
   "metadata": {},
   "source": [
    "### Ranges\n",
    "\n",
    "Perhaps the most common structure used with a `for` loop is a `range` object. A `range` object is an efficient representation of a sequence of (usually consecutive) integers, that behaves just like a list when you iterate over it.\n",
    "- `range(k)` represents the integers `0, 1, 2, ..., k-1` (notice that the sequence ends at `k-1` rather than `k`!)\n",
    "- `range(a, b)` represents the integers `a, a+1, a+2, ..., b-1`\n",
    "- `range(a, b, i)` represents the integers `a, a+i, a+2i, ..., c` where `c` is the largest integer of the form `a + ki` which is less than `b`\n",
    "\n",
    "For example, the following loop sums up the integers $0$ to $9$:"
   ]
  },
  {
   "cell_type": "code",
   "execution_count": 50,
   "metadata": {},
   "outputs": [
    {
     "name": "stdout",
     "output_type": "stream",
     "text": [
      "45\n"
     ]
    }
   ],
   "source": [
    "n = 0\n",
    "for i in range(10):\n",
    "    n += i # add i to n (i.e., n = n + i)\n",
    "print(n)"
   ]
  },
  {
   "cell_type": "markdown",
   "metadata": {},
   "source": [
    "I strongly encourage you to prefer iterating directly over elements of a list, rather than list indices using the `range` statement. Compare the following two `for` loops which accomplish the same thing. The first is to be preferred:"
   ]
  },
  {
   "cell_type": "code",
   "execution_count": 48,
   "metadata": {},
   "outputs": [
    {
     "name": "stdout",
     "output_type": "stream",
     "text": [
      "2\n",
      "3\n",
      "5\n",
      "7\n",
      "2\n",
      "3\n",
      "5\n",
      "7\n"
     ]
    }
   ],
   "source": [
    "primes = [2,3,5,7]\n",
    "for p in primes: # iterating directly over primes\n",
    "    print(p) # so clear and concise! prints 2, then 3, then 5, then 7\n",
    "\n",
    "for i in range(len(primes)): # i is an index, not a prime... Avoid this!\n",
    "    print(primes[i]) # ugly and unnecessary indexing into primes. Avoid this!"
   ]
  },
  {
   "cell_type": "markdown",
   "metadata": {},
   "source": [
    "## Optional material for advanced students\n",
    "\n",
    "Python includes many language features that can make your life easier, if you are prepared to first learn additional syntax. I describe two such features here, for use with `for` loops.\n",
    "\n",
    "I encouraged you above to prefer iterating directly over the list elements, rather than using a range statement to iterate over list indices. But sometimes we need the indices, for example if we want to modify the entries in a list. In such cases, we can use the `enumerate` built-in function. It takes as an argument an iteratable object (like a list), and returns an iterator over pairs `(i, x)` where `i` is the index of item `x`."
   ]
  },
  {
   "cell_type": "code",
   "execution_count": 51,
   "metadata": {},
   "outputs": [
    {
     "name": "stdout",
     "output_type": "stream",
     "text": [
      "['various', 'kinds', 'of', 'capitalization']\n"
     ]
    }
   ],
   "source": [
    "words = [\"Various\", \"kInDs\", \"OF\", \"capitalization\"]\n",
    "for i, word in enumerate(words): # iterate over both indices and items of a list\n",
    "    # i is the index of word in the list words\n",
    "    words[i] = word.lower() # replace the ith entry with a lower-cased version of the same\n",
    "print(words)"
   ]
  },
  {
   "cell_type": "markdown",
   "metadata": {},
   "source": [
    "Another use for indices when iterating is if you want to iterate over multiple lists at the same time. For example:"
   ]
  },
  {
   "cell_type": "code",
   "execution_count": 52,
   "metadata": {},
   "outputs": [
    {
     "name": "stdout",
     "output_type": "stream",
     "text": [
      "Boston is the capital of Massachusetts\n",
      "Providence is the capital of Rhode Island\n",
      "Montpelier is the capital of Vermont\n"
     ]
    }
   ],
   "source": [
    "states = [\"Massachusetts\", \"Rhode Island\", \"Vermont\"]\n",
    "capitals = [\"Boston\", \"Providence\", \"Montpelier\"]\n",
    "for i, state in enumerate(states):\n",
    "    capital = capitals[i] # get the item from capitals with the same index as the current state\n",
    "    print(capital + \" is the capital of \" + state)"
   ]
  },
  {
   "cell_type": "markdown",
   "metadata": {},
   "source": [
    "But in such cases, when iterating over multiple lists with corresponding entries, a better solution is to use the `zip` built-in function, which does exactly that: iterates simultaneously over multiple lists (with corresponding entries)."
   ]
  },
  {
   "cell_type": "code",
   "execution_count": 53,
   "metadata": {},
   "outputs": [
    {
     "name": "stdout",
     "output_type": "stream",
     "text": [
      "Boston is the capital of Massachusetts\n",
      "Providence is the capital of Rhode Island\n",
      "Montpelier is the capital of Vermont\n"
     ]
    }
   ],
   "source": [
    "for state, capital in zip(states, capitals):\n",
    "    print(capital + \" is the capital of \" + state)"
   ]
  },
  {
   "cell_type": "code",
   "execution_count": 57,
   "metadata": {},
   "outputs": [],
   "source": [
    "beauty=[0,1,12]"
   ]
  },
  {
   "cell_type": "code",
   "execution_count": 58,
   "metadata": {},
   "outputs": [
    {
     "data": {
      "text/plain": [
       "[('Massachusetts', 'Boston', 0),\n",
       " ('Rhode Island', 'Providence', 1),\n",
       " ('Vermont', 'Montpelier', 12)]"
      ]
     },
     "execution_count": 58,
     "metadata": {},
     "output_type": "execute_result"
    }
   ],
   "source": [
    "list(zip(states, capitals, beauty))"
   ]
  },
  {
   "cell_type": "code",
   "execution_count": 59,
   "metadata": {},
   "outputs": [
    {
     "name": "stdout",
     "output_type": "stream",
     "text": [
      "Boston is the capital of Massachusetts and the beauty is 0\n",
      "Providence is the capital of Rhode Island and the beauty is 1\n",
      "Montpelier is the capital of Vermont and the beauty is 12\n"
     ]
    }
   ],
   "source": [
    "for states, capitals, beauties in zip(states, capitals, beauty):\n",
    "    print(capitals + \" is the capital of \" + states + \" and the beauty is \" + str(beauties))"
   ]
  },
  {
   "cell_type": "code",
   "execution_count": null,
   "metadata": {},
   "outputs": [],
   "source": []
  }
 ],
 "metadata": {
  "kernelspec": {
   "display_name": "Python 3",
   "language": "python",
   "name": "python3"
  },
  "language_info": {
   "codemirror_mode": {
    "name": "ipython",
    "version": 3
   },
   "file_extension": ".py",
   "mimetype": "text/x-python",
   "name": "python",
   "nbconvert_exporter": "python",
   "pygments_lexer": "ipython3",
   "version": "3.11.1"
  }
 },
 "nbformat": 4,
 "nbformat_minor": 4
}
